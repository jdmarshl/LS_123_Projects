{
 "cells": [
  {
   "cell_type": "markdown",
   "metadata": {},
   "source": [
    "# Question & Motivation\n",
    "\n",
    "We wanted to determine what indicators of gentrification are in the United States. To begin, we define gentrification as the process of renovating deteriorated urban neighborhoods, usually by the influx of more affluent residents and often at the cost of displacing minorities.\n",
    "\n",
    "Our motivation for this project was that by identifying gentrified areas and common traits between gentrified areas, we would be able to:\n",
    "- 1) better understand the associated effects / potential causes of gentrification\n",
    "- 2) identify the process of gentrification earlier on\n",
    "\n",
    "Given earlier identification, the hope is that local and state governments could use this tool to help protect groups of existing residents that are being forced out by rising rents and higher cost of living."
   ]
  },
  {
   "cell_type": "markdown",
   "metadata": {},
   "source": [
    "# Data Acquisition + Cleaning\n",
    "\n",
    "## Data Sources & Methodology\n",
    "For our research proposal, we wanted to be label geographic areas as gentrified or not gentrified, and then find variables correlated with gentrification that would help us predict it. \n",
    "\n",
    "The first step then was to establish how we classify an area's gentrification status. We did so by following Governing.com's  [methodology](https://www.governing.com/gov-data/gentrification-report-methodology.html). And the research it was based off of by [Freeman](https://www.google.com/url?sa=t&rct=j&q=&esrc=s&source=web&cd=1&cad=rja&uact=8&ved=2ahUKEwjz9NCL5-7hAhXSv54KHYX3B9MQFjAAegQIBhAB&url=https%3A%2F%2Fwww.researchgate.net%2Fpublication%2F249734755_Displacement_or_Succession_Residential_Mobility_in_Gentrifying_Neighborhoods&usg=AOvVaw3yboBkbsz7X7z8es2PZgwU). \n",
    "\n",
    " - 1st Test - Eligibility for Gentrification\n",
    "  - Population of at least 500 residents\n",
    "- Median household income in bottom 40th percentile for metro area (county)\n",
    "- Median home value in bottom 40th percentile for metro area\n",
    "\n",
    "- 2nd Test - Did gentrification happen?\n",
    " - Increase in educational attainment for Bachelor's degrees (age 25+), in the top 50th percentile\n",
    " - Median home value increased\n",
    "\n",
    "The data we needed for applying this methodology are detailed above, and then for the second part of our analysis we needed access to other various indicator variables we wanted to test (e.g. home rental status, transportation data, etc.)\n",
    "\n",
    "Based off of these needs, we choose to go with the publicly available **[American Community Survey (ACS)](https://www.census.gov/data/developers/data-sets/acs-1year.html)**. The ACS is an ongoing survey that covers a sample of nearly 3.5 million addresses in the US. The data is released at 1 year intervals. ACS includes demographic information, economic factors (e.g. income and earnings, commuting to work), and housing data. This was perfect for what we wanted to accomplish.\n",
    "\n",
    "## Ethical Collection Standards\n",
    "We wanted to make sure that the data was collected in a way that didn't bias it or otherwise violate ethical standards like we discussed in class. The ACS has both privacy policies and data suppression plans in place. Their privacy policy insures integrity in collecting data that doesn't have the government infringing on personal liberties and the suppression policy keeps the statistics at a large enough geographical reporting area to keep anyone from putting information together to find out an individual or their personal information. More on the [privacy policy](https://www.census.gov/privacy/) and [data suppression](https://www.census.gov/programs-surveys/acs/technical-documentation/data-suppression.html).\n",
    "\n",
    "## Challenges with using ACS\n",
    "We used the ACS API and requests framework to pull our data. Here are a few of the challenges we came across:\n",
    "- **Geographic Specificity**: In order to do the percentile analysis for the Governing methodology (e.g. bottom 40% in median income), we needed to find consistent geographical units, and subunits. This required quite a bit of exploring in terms of what each unit meant. Here's a list of [geographies](https://api.census.gov/data/2017/acs/acs5/examples.html). \n",
    "- **Primary Table Key**: We ended up using census tracts and counties as our geographical units. One thing to note is that the tract variable on its own isn't a unique identifier - the tract numbers are in fact re-used from state to state. Thus, the \"NAME\" variable of a place had to be used as the table's primary key. \n",
    "- **Percentile Calculations**: When evaluating the percentile value for a tract, we looked at counties as the larger geographic unit. These counties however, had to be turned into State_County tuples because County numbers were re-used per state.\n",
    "- **Variable names**: The list of [variables](https://api.census.gov/data/2017/acs/acs5/variables.html) was difficult to look through to search for attributes, and not clear in its definitions. We had to find a separate [page](http://proximityone.com/apigateway_acs5year.htm) that contained better descriptors.\n",
    "- **State IDs** used in API aren't sequential ordered (some had IDs in the 70's range).\n",
    "\n",
    "## **NOTE**: LOADING CSVs\n",
    "There are multiple sections that provide the option to load CSVs for data (and thus save enormous amounst of time b/c they skip querying the API). These should be provided in a zip file."
   ]
  },
  {
   "cell_type": "markdown",
   "metadata": {},
   "source": [
    "## Acquiring and Cleaning the Base Data\n",
    "\n",
    "### Imports"
   ]
  },
  {
   "cell_type": "code",
   "execution_count": 43,
   "metadata": {},
   "outputs": [],
   "source": [
    "import requests\n",
    "import ast\n",
    "import pandas as pd\n",
    "import matplotlib.pyplot as plt\n",
    "import json\n",
    "from sklearn import linear_model\n",
    "from sklearn.model_selection import train_test_split\n",
    "import numpy as np\n",
    "from sklearn.feature_selection import RFE\n",
    "from IPython.display import Markdown, display\n",
    "import warnings\n",
    "warnings.filterwarnings('ignore')\n",
    "plt.rcParams.update({'font.size': 22})"
   ]
  },
  {
   "cell_type": "markdown",
   "metadata": {},
   "source": [
    "### Helper Functions"
   ]
  },
  {
   "cell_type": "code",
   "execution_count": 2,
   "metadata": {},
   "outputs": [],
   "source": [
    "def responseToDataFrame(responseText):\n",
    "    responseText = responseText[1:-1].split(\",\\n\")\n",
    "    cleanList = []\n",
    "    responseText = [json.loads(i) for i in responseText] # <- cleaner but doesn't allow for error handling\n",
    "    dataframe = pd.DataFrame(responseText[1:], columns = responseText[0])\n",
    "    return dataframe\n",
    "\n",
    "def queryAPI(year, columnCodes, csvName):\n",
    "    # INPUT: Int, list of Strings, String - end with .csv\n",
    "    data = pd.DataFrame(columns = columnCodes+['NAME', 'state', 'county', 'tract'])\n",
    "    inputString = \"https://api.census.gov/data/\"+str(year)+\"/acs/acs5?get=\"\n",
    "    for column in columnCodes:\n",
    "        inputString += column+\",\"\n",
    "    inputString += \"NAME&for=tract:*&in=state:\"\n",
    "    for stateID in states:\n",
    "        r = requests.get(inputString+stateID)\n",
    "        data = data.append(responseToDataFrame(r.text))\n",
    "    data.to_csv(csvName, encoding='utf-8', index=False)\n",
    "    return data\n",
    "\n",
    "def changeToNumeric(data, column):\n",
    "    return pd.to_numeric(data[column])\n",
    "\n",
    "def perf_measure(y_actual, y_hat):\n",
    "    TPos = 0\n",
    "    FPos = 0\n",
    "    TNeg = 0\n",
    "    FNeg = 0\n",
    "    for i in range(len(y_hat)): \n",
    "        if y_actual[i]==y_hat[i]==1:\n",
    "            TPos += 1\n",
    "        if y_hat[i]==1 and y_actual[i]!=y_hat[i]:\n",
    "            FPos += 1\n",
    "        if y_actual[i]==y_hat[i]==0:\n",
    "            TNeg += 1\n",
    "        if y_hat[i]==0 and y_actual[i]!=y_hat[i]:\n",
    "            FNeg += 1\n",
    "    return(TPos, FPos, TNeg, FNeg)"
   ]
  },
  {
   "cell_type": "code",
   "execution_count": 37,
   "metadata": {},
   "outputs": [],
   "source": [
    "# Get all the stateIDs we'll be using (not 0-50 for some reason)\n",
    "s = requests.get(\"https://api.census.gov/data/2012/acs/acs5?get=B00001_001E,NAME&for=county:*\")\n",
    "states = set(responseToDataFrame(s.text)['state'])"
   ]
  },
  {
   "cell_type": "markdown",
   "metadata": {},
   "source": [
    "### Pulling from the ACS API\n",
    "\n",
    "Let's figure out what the variable names are for the attributes we want for determining gentrification:\n",
    "- B01001_001E <- Estimate!!Total (population)\n",
    "- B19013_001E <- Estimate!!Median household income in the past 12 months (in 2017 inflation-adjusted dollars)\n",
    "- B25077_001E <- Median house price\n",
    "- B15003_022E <- Estimate!!Total!!Bachelor's degree"
   ]
  },
  {
   "cell_type": "markdown",
   "metadata": {},
   "source": [
    "#### Load CSV option available"
   ]
  },
  {
   "cell_type": "code",
   "execution_count": null,
   "metadata": {},
   "outputs": [],
   "source": [
    "# SKIP if you have the CSV \n",
    "data_2012 = queryAPI(2012, ['B01001_001E', 'B19013_001E', 'B15003_022E', 'B25077_001E'], \"2012Base.csv\")\n",
    "data_2017 = queryAPI(2017, ['B01001_001E', 'B19013_001E', 'B15003_022E', 'B25077_001E'], \"2017Base.csv\")"
   ]
  },
  {
   "cell_type": "code",
   "execution_count": null,
   "metadata": {},
   "outputs": [],
   "source": [
    "# USE this if you already have the CSVs - Saves time from waiting for API\n",
    "data_2012 = pd.read_csv('2012Base.csv')\n",
    "data_2017 = pd.read_csv('2017Base.csv')"
   ]
  },
  {
   "cell_type": "markdown",
   "metadata": {},
   "source": [
    "### Data Cleaning"
   ]
  },
  {
   "cell_type": "code",
   "execution_count": 5,
   "metadata": {},
   "outputs": [],
   "source": [
    "# Change columns to be the proper types and names\n",
    "baseCols = ['B01001_001E', 'B19013_001E', 'B15003_022E', 'B25077_001E']\n",
    "for col in baseCols:\n",
    "    data_2012[col] = changeToNumeric(data_2012, col)\n",
    "    data_2017[col] = changeToNumeric(data_2017, col)\n",
    "    \n",
    "# Change column names to be more intuitive\n",
    "data_2012 = data_2012.rename(index = str, columns={\"B01001_001E\": \"population_2012\", \"B19013_001E\": \"income_2012\", \"B15003_022E\": \"bachelors_2012\", \"B25077_001E\": \"home_2012\"})\n",
    "data_2017 = data_2017.rename(index = str, columns={\"B01001_001E\": \"population_2017\", \"B19013_001E\": \"income_2017\", \"B15003_022E\": \"bachelors_2017\", \"B25077_001E\": \"home_2017\"})\n",
    "\n",
    "# Removing rows that have negative values as these are placeholders when info is missing and will skew data\n",
    "for cols in data_2012.columns.tolist()[1:4]:\n",
    "    data_2012 = data_2012.loc[data_2012[cols] > 0]\n",
    "for cols in data_2017.columns.tolist()[1:4]:\n",
    "    data_2017 = data_2017.loc[data_2017[cols] > 0]"
   ]
  },
  {
   "cell_type": "markdown",
   "metadata": {},
   "source": [
    "### Data Merging"
   ]
  },
  {
   "cell_type": "markdown",
   "metadata": {},
   "source": [
    "#### Load CSV Option Available"
   ]
  },
  {
   "cell_type": "code",
   "execution_count": null,
   "metadata": {},
   "outputs": [],
   "source": [
    "# SKIP if you have the CSV\n",
    "full_table = data_2012.merge(data_2017, on=('NAME'))\n",
    "full_table = full_table[['NAME', 'state_x', 'county_x', 'tract_x', 'population_2012', 'population_2017', 'income_2012', 'income_2017', 'bachelors_2012', 'bachelors_2017', 'home_2012', 'home_2017']]\n",
    "full_table = full_table.rename(index = str, columns={\"state_x\": \"state\", \"county_x\": \"county\", \"tract_x\": \"tract\"})\n",
    "full_table['State_County'] = full_table.apply(lambda x: str(x['state']) + \" - \" + str(x['county']), axis=1)\n",
    "full_table.to_csv(\"Full_table_base.csv\", encoding='utf-8', index=False)"
   ]
  },
  {
   "cell_type": "code",
   "execution_count": null,
   "metadata": {},
   "outputs": [],
   "source": [
    "# USE if you have the CSV\n",
    "full_table = pd.read_csv('Full_table_base.csv')"
   ]
  },
  {
   "cell_type": "markdown",
   "metadata": {},
   "source": [
    "### Feature Extraction"
   ]
  },
  {
   "cell_type": "code",
   "execution_count": 7,
   "metadata": {},
   "outputs": [],
   "source": [
    "full_table['EDU Change'] = (full_table['bachelors_2017'] / full_table['population_2017']) - (full_table['bachelors_2012'] / full_table['population_2012'])\n",
    "full_table['MedHomeVal Inc'] = full_table['home_2017'] > full_table['home_2012']\n",
    "full_table['MedHomeVal Change'] = full_table['home_2017'] - full_table['home_2012']"
   ]
  },
  {
   "cell_type": "markdown",
   "metadata": {},
   "source": [
    "## Identifying Gentrified Tracts"
   ]
  },
  {
   "cell_type": "markdown",
   "metadata": {},
   "source": [
    "### 1) Check if area is eligible for gentrification"
   ]
  },
  {
   "cell_type": "code",
   "execution_count": 8,
   "metadata": {},
   "outputs": [
    {
     "name": "stdout",
     "output_type": "stream",
     "text": [
      "STARTING TABLE TRACTS:  71533\n",
      "ELIGIBLE AREAS AFTER POPULATION FILTER:  71460\n",
      "ELIGIBLE AREAS AFTER INCOME FILTER:  29252\n",
      "ELIGIBLE AREAS AFTER HOME FILTER:  21097\n"
     ]
    }
   ],
   "source": [
    "# First check for Gentrification eligibility\n",
    "firstLookUp = full_table.groupby(\"State_County\").quantile(.4) # Calculate quantiles to filter by\n",
    "print(\"STARTING TABLE TRACTS: \",  full_table.shape[0])\n",
    "\n",
    "first_check = full_table[full_table['population_2012']>500]\n",
    "print(\"ELIGIBLE AREAS AFTER POPULATION FILTER: \",first_check.shape[0])\n",
    "\n",
    "incomeFilter = first_check.apply(lambda x: x['income_2012'] <= firstLookUp['income_2012'][x['State_County']], axis=1)\n",
    "first_check = first_check[incomeFilter]\n",
    "print(\"ELIGIBLE AREAS AFTER INCOME FILTER: \",first_check.shape[0])\n",
    "\n",
    "homeFilter = first_check.apply(lambda x: x['home_2012'] <= firstLookUp['home_2012'][x['State_County']], axis=1)\n",
    "first_check = first_check[homeFilter]\n",
    "print(\"ELIGIBLE AREAS AFTER HOME FILTER: \", first_check.shape[0])"
   ]
  },
  {
   "cell_type": "markdown",
   "metadata": {},
   "source": [
    "### 2) Check if area gentrified over time"
   ]
  },
  {
   "cell_type": "code",
   "execution_count": 9,
   "metadata": {},
   "outputs": [
    {
     "name": "stdout",
     "output_type": "stream",
     "text": [
      "ELIGIBLE AREAS AFTER EDUCATION FILTER:  10500\n",
      "ELIGIBLE AREAS AFTER INCREASE HOME VAL FILTER:  6303\n"
     ]
    }
   ],
   "source": [
    "secondLookUp = full_table.groupby('State_County').quantile(0.50)\n",
    "second_check = first_check\n",
    "\n",
    "educationFilter = second_check.apply(lambda x: x['EDU Change'] >= secondLookUp['EDU Change'][x['State_County']], axis=1)\n",
    "second_check = second_check[educationFilter]\n",
    "print(\"ELIGIBLE AREAS AFTER EDUCATION FILTER: \", second_check.shape[0])\n",
    "\n",
    "second_check = second_check[second_check[\"MedHomeVal Inc\"] == True]\n",
    "print(\"ELIGIBLE AREAS AFTER INCREASE HOME VAL FILTER: \", second_check.shape[0])"
   ]
  },
  {
   "cell_type": "markdown",
   "metadata": {},
   "source": [
    "### 3) Compile Final Table"
   ]
  },
  {
   "cell_type": "code",
   "execution_count": 26,
   "metadata": {},
   "outputs": [
    {
     "data": {
      "text/html": [
       "<div>\n",
       "<style scoped>\n",
       "    .dataframe tbody tr th:only-of-type {\n",
       "        vertical-align: middle;\n",
       "    }\n",
       "\n",
       "    .dataframe tbody tr th {\n",
       "        vertical-align: top;\n",
       "    }\n",
       "\n",
       "    .dataframe thead th {\n",
       "        text-align: right;\n",
       "    }\n",
       "</style>\n",
       "<table border=\"1\" class=\"dataframe\">\n",
       "  <thead>\n",
       "    <tr style=\"text-align: right;\">\n",
       "      <th></th>\n",
       "      <th>NAME</th>\n",
       "      <th>state</th>\n",
       "      <th>county</th>\n",
       "      <th>tract</th>\n",
       "      <th>population_2012</th>\n",
       "      <th>population_2017</th>\n",
       "      <th>income_2012</th>\n",
       "      <th>income_2017</th>\n",
       "      <th>bachelors_2012</th>\n",
       "      <th>bachelors_2017</th>\n",
       "      <th>home_2012</th>\n",
       "      <th>home_2017</th>\n",
       "      <th>State_County</th>\n",
       "      <th>EDU Change</th>\n",
       "      <th>MedHomeVal Inc</th>\n",
       "      <th>MedHomeVal Change</th>\n",
       "      <th>GENTRIFIED</th>\n",
       "    </tr>\n",
       "  </thead>\n",
       "  <tbody>\n",
       "    <tr>\n",
       "      <th>2</th>\n",
       "      <td>Census Tract 8808, Cape Girardeau County, Miss...</td>\n",
       "      <td>29</td>\n",
       "      <td>31</td>\n",
       "      <td>880800</td>\n",
       "      <td>4124</td>\n",
       "      <td>4131</td>\n",
       "      <td>36550</td>\n",
       "      <td>27813</td>\n",
       "      <td>160</td>\n",
       "      <td>195</td>\n",
       "      <td>86600</td>\n",
       "      <td>105000</td>\n",
       "      <td>29 - 31</td>\n",
       "      <td>0.008407</td>\n",
       "      <td>True</td>\n",
       "      <td>18400</td>\n",
       "      <td>1</td>\n",
       "    </tr>\n",
       "    <tr>\n",
       "      <th>3</th>\n",
       "      <td>Census Tract 8809, Cape Girardeau County, Miss...</td>\n",
       "      <td>29</td>\n",
       "      <td>31</td>\n",
       "      <td>880900</td>\n",
       "      <td>2291</td>\n",
       "      <td>2717</td>\n",
       "      <td>33983</td>\n",
       "      <td>28235</td>\n",
       "      <td>227</td>\n",
       "      <td>227</td>\n",
       "      <td>83900</td>\n",
       "      <td>74600</td>\n",
       "      <td>29 - 31</td>\n",
       "      <td>-0.015535</td>\n",
       "      <td>False</td>\n",
       "      <td>-9300</td>\n",
       "      <td>0</td>\n",
       "    </tr>\n",
       "    <tr>\n",
       "      <th>8</th>\n",
       "      <td>Census Tract 8814, Cape Girardeau County, Miss...</td>\n",
       "      <td>29</td>\n",
       "      <td>31</td>\n",
       "      <td>881400</td>\n",
       "      <td>3028</td>\n",
       "      <td>2211</td>\n",
       "      <td>14242</td>\n",
       "      <td>16022</td>\n",
       "      <td>76</td>\n",
       "      <td>36</td>\n",
       "      <td>47300</td>\n",
       "      <td>33900</td>\n",
       "      <td>29 - 31</td>\n",
       "      <td>-0.008817</td>\n",
       "      <td>False</td>\n",
       "      <td>-13400</td>\n",
       "      <td>0</td>\n",
       "    </tr>\n",
       "    <tr>\n",
       "      <th>10</th>\n",
       "      <td>Census Tract 8816, Cape Girardeau County, Miss...</td>\n",
       "      <td>29</td>\n",
       "      <td>31</td>\n",
       "      <td>881600</td>\n",
       "      <td>3001</td>\n",
       "      <td>3245</td>\n",
       "      <td>32650</td>\n",
       "      <td>26593</td>\n",
       "      <td>199</td>\n",
       "      <td>177</td>\n",
       "      <td>85400</td>\n",
       "      <td>79500</td>\n",
       "      <td>29 - 31</td>\n",
       "      <td>-0.011766</td>\n",
       "      <td>False</td>\n",
       "      <td>-5900</td>\n",
       "      <td>0</td>\n",
       "    </tr>\n",
       "    <tr>\n",
       "      <th>13</th>\n",
       "      <td>Census Tract 9603, Carroll County, Missouri</td>\n",
       "      <td>29</td>\n",
       "      <td>33</td>\n",
       "      <td>960300</td>\n",
       "      <td>4028</td>\n",
       "      <td>4053</td>\n",
       "      <td>32424</td>\n",
       "      <td>32466</td>\n",
       "      <td>310</td>\n",
       "      <td>303</td>\n",
       "      <td>69000</td>\n",
       "      <td>73200</td>\n",
       "      <td>29 - 33</td>\n",
       "      <td>-0.002202</td>\n",
       "      <td>True</td>\n",
       "      <td>4200</td>\n",
       "      <td>1</td>\n",
       "    </tr>\n",
       "  </tbody>\n",
       "</table>\n",
       "</div>"
      ],
      "text/plain": [
       "                                                 NAME  state  county   tract  \\\n",
       "2   Census Tract 8808, Cape Girardeau County, Miss...     29      31  880800   \n",
       "3   Census Tract 8809, Cape Girardeau County, Miss...     29      31  880900   \n",
       "8   Census Tract 8814, Cape Girardeau County, Miss...     29      31  881400   \n",
       "10  Census Tract 8816, Cape Girardeau County, Miss...     29      31  881600   \n",
       "13        Census Tract 9603, Carroll County, Missouri     29      33  960300   \n",
       "\n",
       "    population_2012  population_2017  income_2012  income_2017  \\\n",
       "2              4124             4131        36550        27813   \n",
       "3              2291             2717        33983        28235   \n",
       "8              3028             2211        14242        16022   \n",
       "10             3001             3245        32650        26593   \n",
       "13             4028             4053        32424        32466   \n",
       "\n",
       "    bachelors_2012  bachelors_2017  home_2012  home_2017 State_County  \\\n",
       "2              160             195      86600     105000      29 - 31   \n",
       "3              227             227      83900      74600      29 - 31   \n",
       "8               76              36      47300      33900      29 - 31   \n",
       "10             199             177      85400      79500      29 - 31   \n",
       "13             310             303      69000      73200      29 - 33   \n",
       "\n",
       "    EDU Change  MedHomeVal Inc  MedHomeVal Change  GENTRIFIED  \n",
       "2     0.008407            True              18400           1  \n",
       "3    -0.015535           False              -9300           0  \n",
       "8    -0.008817           False             -13400           0  \n",
       "10   -0.011766           False              -5900           0  \n",
       "13   -0.002202            True               4200           1  "
      ]
     },
     "execution_count": 26,
     "metadata": {},
     "output_type": "execute_result"
    }
   ],
   "source": [
    "gentrified = set(second_check['NAME'])\n",
    "def checkBool(gentrified, name):\n",
    "    if (name in gentrified):\n",
    "        return 1\n",
    "    else:\n",
    "        return 0\n",
    "\n",
    "eligible = first_check\n",
    "eligible['GENTRIFIED'] = eligible.apply(lambda x: checkBool(gentrified, x['NAME']), axis=1)\n",
    "eligible.head()"
   ]
  },
  {
   "cell_type": "markdown",
   "metadata": {},
   "source": [
    "# Modeling the Data\n",
    "\n",
    "## Feature Selection\n",
    "\n",
    "Now that we have our labeled table, we wanted to think of what other variables could be potentially useful in helping predict gentrification.\n",
    "\n",
    "Because gentrification is a process, we were interested in time series data, not necessarily static points (e.g. population for 2017). This is because we weren’t evaluating if a tract is gentrified at a given point in time, but instead if an area became gentrified over a time period. This means we wanted to look at features such as average rate of change of X variable, or an absolute change over Y time.\n",
    "\n",
    "Here are some variables we determined could be interesting:\n",
    "- **Change in percentage of houses that are renter occupied** (B25003_003E / B25003_001E) <- influx of people could have more renters\n",
    "- **Change in percentage of houses that are vacant** (B25002_003E / B25002_001E)  <- influx of people could reduce proportion of vacant houses\n",
    "- **Change in population demographic breakdown** <- gentrification involves displacing of minorities (Total: C02003_001E, White: C02003_003E, Black or African American: C02003_004E, Asian: C02003_006E)\n",
    "- **Reduced (or increased) travel time to work** (B08013_001E) < Estimate!!Aggregate travel time to work (in minutes)\n",
    "- **Change in number of vehicles used in commute** (B08015_001E) <- Estimate!!Aggregate number of vehicles (car, truck, or van) used in commuting\n",
    "\n",
    "What might also be interesting to look at in the future is if we play around with some of our original variables, but look at rate of change (e.g. how fast was median income increasing within the first 2 years). This could potentially help us predict gentrification earlier e.g. if all areas that become gentrified start off with an X% rate of increase in median household income per year. Or maybe we look at acceleration - how quickly is the rate of increase changing?"
   ]
  },
  {
   "cell_type": "markdown",
   "metadata": {},
   "source": [
    "### Pull new variables + extra years (for velocity & acceleration)"
   ]
  },
  {
   "cell_type": "markdown",
   "metadata": {},
   "source": [
    "#### Load CSV Option Available"
   ]
  },
  {
   "cell_type": "code",
   "execution_count": null,
   "metadata": {},
   "outputs": [],
   "source": [
    "# SKIP if you already have the CSVs\n",
    "data_2012_2 = queryAPI(2012, ['B25003_003E', 'B25003_001E', 'B25002_003E', 'B25002_001E', 'C02003_001E', 'C02003_004E','C02003_006E','B08013_001E', 'B08015_001E'], '2012Extra.csv')\n",
    "data_2017_2 = queryAPI(2017, ['B25003_003E', 'B25003_001E', 'B25002_003E', 'B25002_001E', 'C02003_001E', 'C02003_004E','C02003_006E','B08013_001E', 'B08015_001E'], '2017Extra.csv')\n",
    "data_2012_3 = queryAPI(2012, ['B15003_023E', 'B15003_024E', \"B25003A_001E\",'B25003B_001E','B25003D_001E','B25004_001E','B25010_001E','B25018_001E'], '2012Extra2.csv')\n",
    "data_2017_3 = queryAPI(2017, ['B15003_023E', 'B15003_024E', \"B25003A_001E\",'B25003B_001E','B25003D_001E','B25004_001E','B25010_001E','B25018_001E'], '2017Extra2.csv')\n",
    "\n",
    "data_2013 = queryAPI(2013, ['B01001_001E', 'B19013_001E', 'B15003_022E', 'B25077_001E'], \"2013Base.csv\")\n",
    "data_2014 = queryAPI(2014, ['B01001_001E', 'B19013_001E', 'B15003_022E', 'B25077_001E'], \"2014Base.csv\")\n",
    "data_2015 = queryAPI(2015, ['B01001_001E', 'B19013_001E', 'B15003_022E', 'B25077_001E'], \"2015Base.csv\")"
   ]
  },
  {
   "cell_type": "code",
   "execution_count": 12,
   "metadata": {},
   "outputs": [],
   "source": [
    "# USE if you have the CSVs\n",
    "data_2012_2 = pd.read_csv(\"2012Extra.csv\")\n",
    "data_2017_2 = pd.read_csv(\"2017Extra.csv\")\n",
    "data_2013 = pd.read_csv(\"2013Base.csv\")\n",
    "data_2014 = pd.read_csv(\"2014Base.csv\")\n",
    "data_2015 = pd.read_csv(\"2015Base.csv\")\n",
    "data_2012_3 = pd.read_csv(\"2012Extra2.csv\")\n",
    "data_2017_3 = pd.read_csv(\"2017Extra2.csv\")"
   ]
  },
  {
   "cell_type": "markdown",
   "metadata": {},
   "source": [
    "### Cleaning the data"
   ]
  },
  {
   "cell_type": "code",
   "execution_count": 14,
   "metadata": {},
   "outputs": [],
   "source": [
    "baseCols = ['B01001_001E', 'B19013_001E', 'B15003_022E', 'B25077_001E']\n",
    "extraCols = ['B25003_003E', 'B25003_001E', 'B25002_003E', 'B25002_001E', 'C02003_001E', 'C02003_004E','C02003_006E','B08013_001E', 'B08015_001E']\n",
    "extraCols2 = ['B15003_023E', 'B15003_024E',\"B25003A_001E\",'B25003B_001E','B25003D_001E','B25004_001E','B25010_001E','B25018_001E']\n",
    "\n",
    "for col in extraCols:\n",
    "    data_2012_2[col] = changeToNumeric(data_2012_2, col)\n",
    "    data_2017_2[col] = changeToNumeric(data_2017_2, col)\n",
    "\n",
    "for col in extraCols2:\n",
    "    data_2012_3[col] = changeToNumeric(data_2012_3, col)\n",
    "    data_2017_3[col] = changeToNumeric(data_2017_3, col)\n",
    "    \n",
    "for col in baseCols:\n",
    "    data_2013[col] = changeToNumeric(data_2013, col)\n",
    "    data_2014[col] = changeToNumeric(data_2014, col)\n",
    "    data_2015[col] = changeToNumeric(data_2015, col)    "
   ]
  },
  {
   "cell_type": "code",
   "execution_count": 15,
   "metadata": {},
   "outputs": [],
   "source": [
    "data_2013 = data_2013.rename(index = str, columns={\"B01001_001E\": \"population_2013\", \"B19013_001E\": \"income_2013\", \"B15003_022E\": \"bachelors_2013\", \"B25077_001E\": \"home_2013\"})\n",
    "data_2014 = data_2014.rename(index = str, columns={\"B01001_001E\": \"population_2014\", \"B19013_001E\": \"income_2014\", \"B15003_022E\": \"bachelors_2014\", \"B25077_001E\": \"home_2014\"})\n",
    "data_2015 = data_2015.rename(index = str, columns={\"B01001_001E\": \"population_2015\", \"B19013_001E\": \"income_2015\", \"B15003_022E\": \"bachelors_2015\", \"B25077_001E\": \"home_2015\"})\n",
    "\n",
    "data_2012_2 = data_2012_2.rename(index = str, columns = {'B25003_003E': \"HousesRented_2012\", 'B25003_001E':\"TotalHousesTenure_2012\", 'B25002_003E': \"HousesVacant_2012\", 'B25002_001E': \"TotalHousesOcc_2012\", 'C02003_001E':\"TotalPopDem_2012\", 'C02003_004E':\"AfAm_2012\",'C02003_006E':\"AsianDem_2012\",'B08013_001E':\"TravelTime_2012\", 'B08015_001E':\"VehiclesUsed_2012\"})\n",
    "data_2017_2 = data_2017_2.rename(index = str, columns = {'B25003_003E': \"HousesRented_2017\", 'B25003_001E':\"TotalHousesTenure_2017\", 'B25002_003E': \"HousesVacant_2017\", 'B25002_001E': \"TotalHousesOcc_2017\", 'C02003_001E':\"TotalPopDem_2017\", 'C02003_004E':\"AfAm_2017\",'C02003_006E':\"AsianDem_2017\",'B08013_001E':\"TravelTime_2017\", 'B08015_001E':\"VehiclesUsed_2017\"})\n",
    "data_2012_3 = data_2012_3.rename(index = str, columns = {'B15003_023E': \"Masters_Degrees_2012\", 'B15003_024E':\"Professional_Degrees_2012\", \"B25003A_001E\" : \"White_Houses_2012\",'B25003B_001E': \"African_American_2012\",'B25003D_001E' : \"Asian_2012\",'B25004_001E' : \"Vacant_Homes_2012\",'B25010_001E' :\"Avg_House_Size_2012\",'B25018_001E' : \"Median_Num_Rooms_2012\"})\n",
    "data_2017_3 = data_2017_3.rename(index = str, columns = {'B15003_023E': \"Masters_Degrees_2017\", 'B15003_024E':\"Professional_Degrees_2017\",\"B25003A_001E\" : \"White_Houses_2017\",'B25003B_001E': \"African_American_2017\",'B25003D_001E' : \"Asian_2017\",'B25004_001E' : \"Vacant_Homes_2017\",'B25010_001E' :\"Avg_House_Size_2017\",'B25018_001E' : \"Median_Num_Rooms_2017\"})\n",
    "\n",
    "data_2013 = data_2013.drop(columns=['state', 'county', 'tract'])\n",
    "data_2014 = data_2014.drop(columns=['state', 'county', 'tract'])\n",
    "data_2015 = data_2015.drop(columns=['state', 'county', 'tract'])\n",
    "data_2012_2 = data_2012_2.drop(columns=['state', 'county', 'tract'])\n",
    "data_2017_2 = data_2017_2.drop(columns=['state', 'county', 'tract'])\n",
    "data_2012_3 = data_2012_3.drop(columns=['state', 'county', 'tract'])\n",
    "data_2017_3 = data_2017_3.drop(columns=['state', 'county', 'tract'])"
   ]
  },
  {
   "cell_type": "markdown",
   "metadata": {},
   "source": [
    "### Merging the data"
   ]
  },
  {
   "cell_type": "code",
   "execution_count": 16,
   "metadata": {},
   "outputs": [
    {
     "data": {
      "text/html": [
       "<div>\n",
       "<style scoped>\n",
       "    .dataframe tbody tr th:only-of-type {\n",
       "        vertical-align: middle;\n",
       "    }\n",
       "\n",
       "    .dataframe tbody tr th {\n",
       "        vertical-align: top;\n",
       "    }\n",
       "\n",
       "    .dataframe thead th {\n",
       "        text-align: right;\n",
       "    }\n",
       "</style>\n",
       "<table border=\"1\" class=\"dataframe\">\n",
       "  <thead>\n",
       "    <tr style=\"text-align: right;\">\n",
       "      <th></th>\n",
       "      <th>NAME</th>\n",
       "      <th>state</th>\n",
       "      <th>county</th>\n",
       "      <th>tract</th>\n",
       "      <th>population_2012</th>\n",
       "      <th>population_2017</th>\n",
       "      <th>income_2012</th>\n",
       "      <th>income_2017</th>\n",
       "      <th>bachelors_2012</th>\n",
       "      <th>bachelors_2017</th>\n",
       "      <th>...</th>\n",
       "      <th>bachelors_2013</th>\n",
       "      <th>home_2013</th>\n",
       "      <th>population_2014</th>\n",
       "      <th>income_2014</th>\n",
       "      <th>bachelors_2014</th>\n",
       "      <th>home_2014</th>\n",
       "      <th>population_2015</th>\n",
       "      <th>income_2015</th>\n",
       "      <th>bachelors_2015</th>\n",
       "      <th>home_2015</th>\n",
       "    </tr>\n",
       "  </thead>\n",
       "  <tbody>\n",
       "    <tr>\n",
       "      <th>0</th>\n",
       "      <td>Census Tract 8808, Cape Girardeau County, Miss...</td>\n",
       "      <td>29</td>\n",
       "      <td>31</td>\n",
       "      <td>880800</td>\n",
       "      <td>4124</td>\n",
       "      <td>4131</td>\n",
       "      <td>36550</td>\n",
       "      <td>27813</td>\n",
       "      <td>160</td>\n",
       "      <td>195</td>\n",
       "      <td>...</td>\n",
       "      <td>171</td>\n",
       "      <td>86400</td>\n",
       "      <td>4217</td>\n",
       "      <td>24011</td>\n",
       "      <td>205</td>\n",
       "      <td>87300</td>\n",
       "      <td>4342</td>\n",
       "      <td>23871.0</td>\n",
       "      <td>223</td>\n",
       "      <td>97800.0</td>\n",
       "    </tr>\n",
       "    <tr>\n",
       "      <th>1</th>\n",
       "      <td>Census Tract 8809, Cape Girardeau County, Miss...</td>\n",
       "      <td>29</td>\n",
       "      <td>31</td>\n",
       "      <td>880900</td>\n",
       "      <td>2291</td>\n",
       "      <td>2717</td>\n",
       "      <td>33983</td>\n",
       "      <td>28235</td>\n",
       "      <td>227</td>\n",
       "      <td>227</td>\n",
       "      <td>...</td>\n",
       "      <td>253</td>\n",
       "      <td>81600</td>\n",
       "      <td>2259</td>\n",
       "      <td>37112</td>\n",
       "      <td>252</td>\n",
       "      <td>77800</td>\n",
       "      <td>2329</td>\n",
       "      <td>37831.0</td>\n",
       "      <td>241</td>\n",
       "      <td>76700.0</td>\n",
       "    </tr>\n",
       "    <tr>\n",
       "      <th>2</th>\n",
       "      <td>Census Tract 8814, Cape Girardeau County, Miss...</td>\n",
       "      <td>29</td>\n",
       "      <td>31</td>\n",
       "      <td>881400</td>\n",
       "      <td>3028</td>\n",
       "      <td>2211</td>\n",
       "      <td>14242</td>\n",
       "      <td>16022</td>\n",
       "      <td>76</td>\n",
       "      <td>36</td>\n",
       "      <td>...</td>\n",
       "      <td>61</td>\n",
       "      <td>39900</td>\n",
       "      <td>2676</td>\n",
       "      <td>14795</td>\n",
       "      <td>57</td>\n",
       "      <td>57000</td>\n",
       "      <td>2492</td>\n",
       "      <td>14684.0</td>\n",
       "      <td>61</td>\n",
       "      <td>57900.0</td>\n",
       "    </tr>\n",
       "    <tr>\n",
       "      <th>3</th>\n",
       "      <td>Census Tract 8816, Cape Girardeau County, Miss...</td>\n",
       "      <td>29</td>\n",
       "      <td>31</td>\n",
       "      <td>881600</td>\n",
       "      <td>3001</td>\n",
       "      <td>3245</td>\n",
       "      <td>32650</td>\n",
       "      <td>26593</td>\n",
       "      <td>199</td>\n",
       "      <td>177</td>\n",
       "      <td>...</td>\n",
       "      <td>178</td>\n",
       "      <td>83800</td>\n",
       "      <td>3550</td>\n",
       "      <td>26620</td>\n",
       "      <td>166</td>\n",
       "      <td>85100</td>\n",
       "      <td>3380</td>\n",
       "      <td>29000.0</td>\n",
       "      <td>202</td>\n",
       "      <td>81400.0</td>\n",
       "    </tr>\n",
       "    <tr>\n",
       "      <th>4</th>\n",
       "      <td>Census Tract 9603, Carroll County, Missouri</td>\n",
       "      <td>29</td>\n",
       "      <td>33</td>\n",
       "      <td>960300</td>\n",
       "      <td>4028</td>\n",
       "      <td>4053</td>\n",
       "      <td>32424</td>\n",
       "      <td>32466</td>\n",
       "      <td>310</td>\n",
       "      <td>303</td>\n",
       "      <td>...</td>\n",
       "      <td>280</td>\n",
       "      <td>74100</td>\n",
       "      <td>3940</td>\n",
       "      <td>32429</td>\n",
       "      <td>294</td>\n",
       "      <td>74400</td>\n",
       "      <td>4116</td>\n",
       "      <td>33452.0</td>\n",
       "      <td>255</td>\n",
       "      <td>65800.0</td>\n",
       "    </tr>\n",
       "  </tbody>\n",
       "</table>\n",
       "<p>5 rows × 63 columns</p>\n",
       "</div>"
      ],
      "text/plain": [
       "                                                NAME  state  county   tract  \\\n",
       "0  Census Tract 8808, Cape Girardeau County, Miss...     29      31  880800   \n",
       "1  Census Tract 8809, Cape Girardeau County, Miss...     29      31  880900   \n",
       "2  Census Tract 8814, Cape Girardeau County, Miss...     29      31  881400   \n",
       "3  Census Tract 8816, Cape Girardeau County, Miss...     29      31  881600   \n",
       "4        Census Tract 9603, Carroll County, Missouri     29      33  960300   \n",
       "\n",
       "   population_2012  population_2017  income_2012  income_2017  bachelors_2012  \\\n",
       "0             4124             4131        36550        27813             160   \n",
       "1             2291             2717        33983        28235             227   \n",
       "2             3028             2211        14242        16022              76   \n",
       "3             3001             3245        32650        26593             199   \n",
       "4             4028             4053        32424        32466             310   \n",
       "\n",
       "   bachelors_2017    ...      bachelors_2013  home_2013 population_2014  \\\n",
       "0             195    ...                 171      86400            4217   \n",
       "1             227    ...                 253      81600            2259   \n",
       "2              36    ...                  61      39900            2676   \n",
       "3             177    ...                 178      83800            3550   \n",
       "4             303    ...                 280      74100            3940   \n",
       "\n",
       "   income_2014  bachelors_2014  home_2014  population_2015  income_2015  \\\n",
       "0        24011             205      87300             4342      23871.0   \n",
       "1        37112             252      77800             2329      37831.0   \n",
       "2        14795              57      57000             2492      14684.0   \n",
       "3        26620             166      85100             3380      29000.0   \n",
       "4        32429             294      74400             4116      33452.0   \n",
       "\n",
       "   bachelors_2015  home_2015  \n",
       "0             223    97800.0  \n",
       "1             241    76700.0  \n",
       "2              61    57900.0  \n",
       "3             202    81400.0  \n",
       "4             255    65800.0  \n",
       "\n",
       "[5 rows x 63 columns]"
      ]
     },
     "execution_count": 16,
     "metadata": {},
     "output_type": "execute_result"
    }
   ],
   "source": [
    "master = eligible\n",
    "master = master.merge(data_2017_2, on=('NAME'))\n",
    "master = master.merge(data_2012_2, on=('NAME'))\n",
    "master = master.merge(data_2017_3, on=('NAME'))\n",
    "master = master.merge(data_2012_3, on=('NAME'))\n",
    "master = master.merge(data_2013, on=('NAME'))\n",
    "master = master.merge(data_2014, on=('NAME'))\n",
    "master = master.merge(data_2015, on=('NAME'))\n",
    "master.head()"
   ]
  },
  {
   "cell_type": "code",
   "execution_count": 44,
   "metadata": {},
   "outputs": [
    {
     "data": {
      "text/plain": [
       "Text(0.5, 0, 'Income in $')"
      ]
     },
     "execution_count": 44,
     "metadata": {},
     "output_type": "execute_result"
    },
    {
     "data": {
      "image/png": "[encoded data removed]",
      "text/plain": [
       "<Figure size 2160x864 with 1 Axes>"
      ]
     },
     "metadata": {
      "needs_background": "light"
     },
     "output_type": "display_data"
    }
   ],
   "source": [
    "values = master['income_2012']\n",
    "plt.figure(figsize=(30, 12))\n",
    "plt.hist(values, bins=100)\n",
    "plt.title('Median Household Income in 2012')\n",
    "plt.ylabel('# of Tracts with the given Income')\n",
    "plt.xlabel('Income in $')"
   ]
  },
  {
   "cell_type": "code",
   "execution_count": 45,
   "metadata": {},
   "outputs": [
    {
     "data": {
      "text/plain": [
       "37430.67914869413"
      ]
     },
     "execution_count": 45,
     "metadata": {},
     "output_type": "execute_result"
    }
   ],
   "source": [
    "master['income_2012'].mean()"
   ]
  },
  {
   "cell_type": "code",
   "execution_count": 46,
   "metadata": {},
   "outputs": [
    {
     "data": {
      "text/plain": [
       "Text(0.5, 0, 'Income in $')"
      ]
     },
     "execution_count": 46,
     "metadata": {},
     "output_type": "execute_result"
    },
    {
     "data": {
      "image/png": "[encoded data removed]",
      "text/plain": [
       "<Figure size 2160x864 with 1 Axes>"
      ]
     },
     "metadata": {
      "needs_background": "light"
     },
     "output_type": "display_data"
    }
   ],
   "source": [
    "values = master['income_2017']\n",
    "plt.figure(figsize=(30, 12))\n",
    "plt.hist(values, bins=100)\n",
    "plt.title('Median Household Income in 2017')\n",
    "plt.ylabel('# of Tracts with the given Income')\n",
    "plt.xlabel('Income in $')"
   ]
  },
  {
   "cell_type": "code",
   "execution_count": 47,
   "metadata": {},
   "outputs": [
    {
     "data": {
      "text/plain": [
       "41748.89396596672"
      ]
     },
     "execution_count": 47,
     "metadata": {},
     "output_type": "execute_result"
    }
   ],
   "source": [
    "master['income_2017'].mean()"
   ]
  },
  {
   "cell_type": "markdown",
   "metadata": {},
   "source": [
    "Note the shift to the right in 2017 Income, this represents the increase in the mean income from 2012 to 2017 from \\\\$37,430 to \\\\$41,748."
   ]
  },
  {
   "cell_type": "code",
   "execution_count": 48,
   "metadata": {},
   "outputs": [
    {
     "data": {
      "text/plain": [
       "Text(0.5, 0, 'Home Value in $')"
      ]
     },
     "execution_count": 48,
     "metadata": {},
     "output_type": "execute_result"
    },
    {
     "data": {
      "image/png": "[encoded data removed]",
      "text/plain": [
       "<Figure size 2160x864 with 1 Axes>"
      ]
     },
     "metadata": {
      "needs_background": "light"
     },
     "output_type": "display_data"
    }
   ],
   "source": [
    "values = master['home_2017']\n",
    "plt.figure(figsize=(30, 12))\n",
    "plt.hist(values, bins=200)\n",
    "plt.title('Median Home Value in 2017')\n",
    "plt.ylabel('# of Tracts with the given Home Value')\n",
    "plt.xlabel('Home Value in $')"
   ]
  },
  {
   "cell_type": "markdown",
   "metadata": {},
   "source": [
    "### Feature Extraction"
   ]
  },
  {
   "cell_type": "code",
   "execution_count": 17,
   "metadata": {},
   "outputs": [],
   "source": [
    "master['RenterOccupied'] = (master['HousesRented_2017']/master['TotalHousesTenure_2017']) - (master['HousesRented_2012']/master['TotalHousesTenure_2012'])\n",
    "master['HousesVacant'] = (master['HousesVacant_2017']/master['TotalHousesOcc_2017']) - (master['HousesVacant_2012']/master['TotalHousesOcc_2012'])\n",
    "master['AfAm'] = (master['AfAm_2017'] / master['TotalPopDem_2017']) - (master['AfAm_2012'] / master['TotalPopDem_2012'])\n",
    "master['Asian'] = (master['AsianDem_2017'] / master['TotalPopDem_2017']) - (master['AsianDem_2012'] / master['TotalPopDem_2012'])\n",
    "master['TravelTime'] = (master['TravelTime_2017'] - master['TravelTime_2012']) / master['TravelTime_2012']\n",
    "master['VehiclesUsed'] = (master['VehiclesUsed_2017'] - master['VehiclesUsed_2012']) / master['VehiclesUsed_2012']\n",
    "\n",
    "master['Masters'] = (master['Masters_Degrees_2017'] - master['Masters_Degrees_2012']) / master['Masters_Degrees_2012']\n",
    "master['Professionals'] = (master['Professional_Degrees_2017'] - master['Professional_Degrees_2012']) / master['Professional_Degrees_2012']\n",
    "\n",
    "master['White_Home'] = (master['White_Houses_2017']-master['White_Houses_2012'])/master['White_Houses_2012']\n",
    "master['AA_Home'] = (master['African_American_2017']-master['African_American_2012'])/master['African_American_2012']\n",
    "master['Asian_Home'] = (master['Asian_2017']-master['Asian_2012'])/master['Asian_2012']\n",
    "master['Vacant_Homes'] = (master['Vacant_Homes_2017']-master['Vacant_Homes_2012'])/master['Vacant_Homes_2012']\n",
    "master['Avg_House_Size'] = (master['Avg_House_Size_2017']-master['Avg_House_Size_2012'])/master['Avg_House_Size_2012']\n",
    "master['Median_Num_Rooms'] = (master['Median_Num_Rooms_2017']-master['Median_Num_Rooms_2012'])/master['Median_Num_Rooms_2012']"
   ]
  },
  {
   "cell_type": "code",
   "execution_count": 18,
   "metadata": {},
   "outputs": [],
   "source": [
    "master['popAccel'] = (((master['population_2015'] - master['population_2014']) - (master['population_2014'] - master['population_2013'])) + ((master['population_2014'] - master['population_2013'])-(master['population_2013'] - master['population_2012'])))/2\n",
    "master['incAccel'] = (((master['income_2015'] - master['income_2014']) - (master['income_2014'] - master['income_2013'])) + ((master['income_2014'] - master['income_2013'])-(master['income_2013'] - master['income_2012'])))/2\n",
    "master['bachAccel'] = (((master['bachelors_2015'] - master['bachelors_2014']) - (master['bachelors_2014'] - master['bachelors_2013'])) + ((master['bachelors_2014'] - master['bachelors_2013'])-(master['bachelors_2013'] - master['bachelors_2012'])))/2\n",
    "master['homeVelAccel'] = (((master['home_2015'] - master['home_2014']) - (master['home_2014'] - master['home_2013'])) + ((master['home_2014'] - master['home_2013'])-(master['home_2013'] - master['home_2012'])))/2\n",
    "\n",
    "master['popVelAvg'] = ((master['population_2015'] - master['population_2014']) + (master['population_2014'] - master['population_2013']) + (master['population_2013'] - master['population_2012']))/3\n",
    "master['incVelAvg'] = ((master['income_2015'] - master['income_2014']) + (master['income_2014'] - master['population_2013']) + (master['income_2013'] - master['income_2012']))/3\n",
    "master['bachVelAvg'] = ((master['bachelors_2015'] - master['bachelors_2014']) + (master['bachelors_2014'] - master['bachelors_2013']) + (master['bachelors_2013'] - master['bachelors_2012']))/3\n",
    "master['homeVelAvg'] = ((master['home_2015'] - master['home_2014']) + (master['home_2014'] - master['home_2013']) + (master['home_2013'] - master['home_2012']))/3"
   ]
  },
  {
   "cell_type": "code",
   "execution_count": 21,
   "metadata": {},
   "outputs": [],
   "source": [
    "master[\"Masters\"].fillna(100, inplace=True)\n",
    "master[\"Professionals\"].fillna(100, inplace=True)\n",
    "master.replace(np.inf, 0, inplace=True)"
   ]
  },
  {
   "cell_type": "code",
   "execution_count": 24,
   "metadata": {},
   "outputs": [
    {
     "name": "stdout",
     "output_type": "stream",
     "text": [
      "ORIGINAL SIZE:  21097\n",
      "NEW SIZE:  14137\n"
     ]
    }
   ],
   "source": [
    "masterClean = master[['NAME','state', 'county', 'tract', 'GENTRIFIED', 'RenterOccupied', 'HousesVacant', 'AfAm', 'Asian', 'TravelTime', 'VehiclesUsed', 'Masters','Professionals','White_Home','AA_Home','Asian_Home','Vacant_Homes','Avg_House_Size','Median_Num_Rooms', 'popAccel', 'incAccel', 'bachAccel', 'homeVelAccel', 'popVelAvg', 'incVelAvg', 'bachVelAvg', 'homeVelAvg']]\n",
    "print(\"ORIGINAL SIZE: \", masterClean.shape[0])\n",
    "masterClean = masterClean.dropna()\n",
    "print(\"NEW SIZE: \", masterClean.shape[0])\n",
    "masterReduced = masterClean"
   ]
  },
  {
   "cell_type": "code",
   "execution_count": 36,
   "metadata": {},
   "outputs": [
    {
     "data": {
      "text/html": [
       "<div>\n",
       "<style scoped>\n",
       "    .dataframe tbody tr th:only-of-type {\n",
       "        vertical-align: middle;\n",
       "    }\n",
       "\n",
       "    .dataframe tbody tr th {\n",
       "        vertical-align: top;\n",
       "    }\n",
       "\n",
       "    .dataframe thead th {\n",
       "        text-align: right;\n",
       "    }\n",
       "</style>\n",
       "<table border=\"1\" class=\"dataframe\">\n",
       "  <thead>\n",
       "    <tr style=\"text-align: right;\">\n",
       "      <th></th>\n",
       "      <th>NAME</th>\n",
       "      <th>state</th>\n",
       "      <th>county</th>\n",
       "      <th>tract</th>\n",
       "      <th>GENTRIFIED</th>\n",
       "      <th>RenterOccupied</th>\n",
       "      <th>HousesVacant</th>\n",
       "      <th>AfAm</th>\n",
       "      <th>Asian</th>\n",
       "      <th>TravelTime</th>\n",
       "      <th>...</th>\n",
       "      <th>Avg_House_Size</th>\n",
       "      <th>Median_Num_Rooms</th>\n",
       "      <th>popAccel</th>\n",
       "      <th>incAccel</th>\n",
       "      <th>bachAccel</th>\n",
       "      <th>homeVelAccel</th>\n",
       "      <th>popVelAvg</th>\n",
       "      <th>incVelAvg</th>\n",
       "      <th>bachVelAvg</th>\n",
       "      <th>homeVelAvg</th>\n",
       "    </tr>\n",
       "  </thead>\n",
       "  <tbody>\n",
       "    <tr>\n",
       "      <th>0</th>\n",
       "      <td>Census Tract 8808, Cape Girardeau County, Miss...</td>\n",
       "      <td>29</td>\n",
       "      <td>31</td>\n",
       "      <td>880800</td>\n",
       "      <td>1</td>\n",
       "      <td>0.096519</td>\n",
       "      <td>-0.032565</td>\n",
       "      <td>0.063041</td>\n",
       "      <td>-0.013667</td>\n",
       "      <td>0.118418</td>\n",
       "      <td>...</td>\n",
       "      <td>-0.046875</td>\n",
       "      <td>-0.200000</td>\n",
       "      <td>48.0</td>\n",
       "      <td>3953.0</td>\n",
       "      <td>3.5</td>\n",
       "      <td>5350.0</td>\n",
       "      <td>72.666667</td>\n",
       "      <td>3890.666667</td>\n",
       "      <td>21.000000</td>\n",
       "      <td>3733.333333</td>\n",
       "    </tr>\n",
       "    <tr>\n",
       "      <th>1</th>\n",
       "      <td>Census Tract 8809, Cape Girardeau County, Miss...</td>\n",
       "      <td>29</td>\n",
       "      <td>31</td>\n",
       "      <td>880900</td>\n",
       "      <td>0</td>\n",
       "      <td>0.092664</td>\n",
       "      <td>0.058573</td>\n",
       "      <td>0.025674</td>\n",
       "      <td>0.074964</td>\n",
       "      <td>0.107348</td>\n",
       "      <td>...</td>\n",
       "      <td>0.234234</td>\n",
       "      <td>0.090909</td>\n",
       "      <td>-58.0</td>\n",
       "      <td>-1764.5</td>\n",
       "      <td>-18.5</td>\n",
       "      <td>600.0</td>\n",
       "      <td>12.666667</td>\n",
       "      <td>13200.666667</td>\n",
       "      <td>4.666667</td>\n",
       "      <td>-2400.000000</td>\n",
       "    </tr>\n",
       "    <tr>\n",
       "      <th>2</th>\n",
       "      <td>Census Tract 8814, Cape Girardeau County, Miss...</td>\n",
       "      <td>29</td>\n",
       "      <td>31</td>\n",
       "      <td>881400</td>\n",
       "      <td>0</td>\n",
       "      <td>-0.194425</td>\n",
       "      <td>0.103416</td>\n",
       "      <td>0.020955</td>\n",
       "      <td>-0.001321</td>\n",
       "      <td>0.042335</td>\n",
       "      <td>...</td>\n",
       "      <td>-0.210526</td>\n",
       "      <td>0.020833</td>\n",
       "      <td>-64.0</td>\n",
       "      <td>-256.5</td>\n",
       "      <td>9.5</td>\n",
       "      <td>4150.0</td>\n",
       "      <td>-178.666667</td>\n",
       "      <td>4038.000000</td>\n",
       "      <td>-5.000000</td>\n",
       "      <td>3533.333333</td>\n",
       "    </tr>\n",
       "    <tr>\n",
       "      <th>3</th>\n",
       "      <td>Census Tract 8816, Cape Girardeau County, Miss...</td>\n",
       "      <td>29</td>\n",
       "      <td>31</td>\n",
       "      <td>881600</td>\n",
       "      <td>0</td>\n",
       "      <td>0.045210</td>\n",
       "      <td>0.102539</td>\n",
       "      <td>0.104162</td>\n",
       "      <td>0.024428</td>\n",
       "      <td>0.109698</td>\n",
       "      <td>...</td>\n",
       "      <td>0.064516</td>\n",
       "      <td>0.000000</td>\n",
       "      <td>-116.0</td>\n",
       "      <td>613.5</td>\n",
       "      <td>28.5</td>\n",
       "      <td>-1050.0</td>\n",
       "      <td>126.333333</td>\n",
       "      <td>9030.000000</td>\n",
       "      <td>1.000000</td>\n",
       "      <td>-1333.333333</td>\n",
       "    </tr>\n",
       "    <tr>\n",
       "      <th>4</th>\n",
       "      <td>Census Tract 9603, Carroll County, Missouri</td>\n",
       "      <td>29</td>\n",
       "      <td>33</td>\n",
       "      <td>960300</td>\n",
       "      <td>1</td>\n",
       "      <td>0.028204</td>\n",
       "      <td>-0.000410</td>\n",
       "      <td>-0.016722</td>\n",
       "      <td>-0.003016</td>\n",
       "      <td>-0.289163</td>\n",
       "      <td>...</td>\n",
       "      <td>0.000000</td>\n",
       "      <td>0.036364</td>\n",
       "      <td>91.5</td>\n",
       "      <td>317.0</td>\n",
       "      <td>-4.5</td>\n",
       "      <td>-6850.0</td>\n",
       "      <td>29.333333</td>\n",
       "      <td>9940.000000</td>\n",
       "      <td>-18.333333</td>\n",
       "      <td>-1066.666667</td>\n",
       "    </tr>\n",
       "  </tbody>\n",
       "</table>\n",
       "<p>5 rows × 27 columns</p>\n",
       "</div>"
      ],
      "text/plain": [
       "                                                NAME  state  county   tract  \\\n",
       "0  Census Tract 8808, Cape Girardeau County, Miss...     29      31  880800   \n",
       "1  Census Tract 8809, Cape Girardeau County, Miss...     29      31  880900   \n",
       "2  Census Tract 8814, Cape Girardeau County, Miss...     29      31  881400   \n",
       "3  Census Tract 8816, Cape Girardeau County, Miss...     29      31  881600   \n",
       "4        Census Tract 9603, Carroll County, Missouri     29      33  960300   \n",
       "\n",
       "   GENTRIFIED  RenterOccupied  HousesVacant      AfAm     Asian  TravelTime  \\\n",
       "0           1        0.096519     -0.032565  0.063041 -0.013667    0.118418   \n",
       "1           0        0.092664      0.058573  0.025674  0.074964    0.107348   \n",
       "2           0       -0.194425      0.103416  0.020955 -0.001321    0.042335   \n",
       "3           0        0.045210      0.102539  0.104162  0.024428    0.109698   \n",
       "4           1        0.028204     -0.000410 -0.016722 -0.003016   -0.289163   \n",
       "\n",
       "      ...       Avg_House_Size  Median_Num_Rooms  popAccel  incAccel  \\\n",
       "0     ...            -0.046875         -0.200000      48.0    3953.0   \n",
       "1     ...             0.234234          0.090909     -58.0   -1764.5   \n",
       "2     ...            -0.210526          0.020833     -64.0    -256.5   \n",
       "3     ...             0.064516          0.000000    -116.0     613.5   \n",
       "4     ...             0.000000          0.036364      91.5     317.0   \n",
       "\n",
       "   bachAccel  homeVelAccel   popVelAvg     incVelAvg  bachVelAvg   homeVelAvg  \n",
       "0        3.5        5350.0   72.666667   3890.666667   21.000000  3733.333333  \n",
       "1      -18.5         600.0   12.666667  13200.666667    4.666667 -2400.000000  \n",
       "2        9.5        4150.0 -178.666667   4038.000000   -5.000000  3533.333333  \n",
       "3       28.5       -1050.0  126.333333   9030.000000    1.000000 -1333.333333  \n",
       "4       -4.5       -6850.0   29.333333   9940.000000  -18.333333 -1066.666667  \n",
       "\n",
       "[5 rows x 27 columns]"
      ]
     },
     "execution_count": 36,
     "metadata": {},
     "output_type": "execute_result"
    }
   ],
   "source": [
    "masterReduced.head()"
   ]
  },
  {
   "cell_type": "markdown",
   "metadata": {},
   "source": [
    "## Test Valid Train Split"
   ]
  },
  {
   "cell_type": "code",
   "execution_count": 25,
   "metadata": {},
   "outputs": [],
   "source": [
    "X = masterReduced.drop(columns = ['NAME', 'state', 'county', 'tract', 'GENTRIFIED'])\n",
    "y = masterReduced['GENTRIFIED']\n",
    "np.random.seed(10)\n",
    "# Train/Test Split\n",
    "X_train, X_test, y_train, y_test = train_test_split(X, y, train_size = .80,test_size = .20)\n",
    "\n",
    "# Train/Validation Split\n",
    "X_train, X_validate, y_train, y_validate = train_test_split(X_train, y_train,train_size = .75, test_size = .25)"
   ]
  },
  {
   "cell_type": "markdown",
   "metadata": {},
   "source": [
    "## Model - Logistic Regression\n",
    "\n",
    "### Why logistic regression?\n",
    "We did a logistic regression on our data, because this analysis aimed to perform classification. We aimed to use numerical census values (e.g. change in educational attainment) in order to delineate between a binary result (1 for gentrified, 0 for non gentrified).\n",
    "\n",
    "### Refresher: What is logistic regression?\n",
    "Logistic regression estimates the parameters of a logistic model. Using a target indicator variable (labeled 0 or 1), and input independent variables (our predictor variables), we predicted the probability of a certain input falling into either of the indicator variable buckets. Logistic regression is named as such because we used log as our sigmoid function (converts any input number to a value between 0 and 1). So given some regression of our inputs, we found the best weights for each input variable, that lead to the best probability estimates, that reduced our cost function (usually L2 Norm).\n",
    "\n",
    "A more detailed, general explanation of logistic regression can be found [here](https://towardsdatascience.com/logistic-regression-detailed-overview-46c4da4303bc). A great in depth, mathematical explanation can be found on [Wikipedia](https://en.wikipedia.org/wiki/Logistic_regression)."
   ]
  },
  {
   "cell_type": "code",
   "execution_count": 27,
   "metadata": {},
   "outputs": [],
   "source": [
    "logreg = linear_model.LogisticRegression(solver = \"newton-cg\")\n",
    "#logreg = RFE(logreg, 22, step=1)  # <- Optional, can play around with if more features are added\n",
    "log_model = logreg.fit(X_train, y_train)\n",
    "log_pred = log_model.predict(X_validate)"
   ]
  },
  {
   "cell_type": "markdown",
   "metadata": {},
   "source": [
    "## Results"
   ]
  },
  {
   "cell_type": "code",
   "execution_count": 28,
   "metadata": {},
   "outputs": [
    {
     "data": {
      "text/plain": [
       "0.7634370579915134"
      ]
     },
     "execution_count": 28,
     "metadata": {},
     "output_type": "execute_result"
    }
   ],
   "source": [
    "np.mean(log_pred == y_validate)"
   ]
  },
  {
   "cell_type": "code",
   "execution_count": 30,
   "metadata": {},
   "outputs": [
    {
     "data": {
      "text/plain": [
       "array([[-1.03466222e-01, -4.71841504e-03, -3.39015133e-02,\n",
       "         2.57950787e-02,  1.02692325e-01,  1.86273441e-01,\n",
       "        -3.21921501e-03, -1.56188089e-03, -6.29499007e-02,\n",
       "        -1.56161266e-02, -4.52802819e-03,  1.91199068e-02,\n",
       "        -1.18371333e-01,  4.01424340e-02, -9.79177245e-06,\n",
       "        -1.54663597e-06, -4.59636931e-04, -2.63690759e-09,\n",
       "        -1.93994533e-03, -1.14536469e-05,  2.96763875e-02,\n",
       "         9.16605421e-05]])"
      ]
     },
     "execution_count": 30,
     "metadata": {},
     "output_type": "execute_result"
    }
   ],
   "source": [
    "log_model.coef_"
   ]
  },
  {
   "cell_type": "code",
   "execution_count": 35,
   "metadata": {},
   "outputs": [
    {
     "name": "stdout",
     "output_type": "stream",
     "text": [
      "True Positive:  310\n",
      "False Positive:  154\n",
      "True Negative:  1849\n",
      "False Negative:  515\n"
     ]
    }
   ],
   "source": [
    "results = perf_measure(np.array(y_validate), np.array(log_pred))\n",
    "print(\"True Positive: \", results[0])\n",
    "print(\"False Positive: \", results[1])\n",
    "print(\"True Negative: \", results[2])\n",
    "print(\"False Negative: \", results[3])"
   ]
  },
  {
   "cell_type": "markdown",
   "metadata": {},
   "source": [
    "# Conclusions\n",
    "\n",
    "## Numerical Results\n",
    "Our model had an accuracy of around 76% in predicting gentrification through our variables. This is only a 6% improvement from if we had guessed all areas as non-gentrified. \n",
    "\n",
    "We also had a precision of 67%, and a recall of of 38%. It turns out our model labels quite a few tracts as non-gentrified when they should be counted as gentrified. \n",
    "\n",
    "\n",
    "## Interpretation of results\n",
    "- **Accuracy:** As we continued to add more features that we thought may be good proxies for factors outlined in Governing, we started being able to predict gentrification more accurately. \n",
    "- **Coefficients:** Our log model coefficients sign (positive vs negative) can be interpreted as being positively correlated or negatively correlated with gentrification. For example, increased vehicle usage as well as travel time to work were positively associated with gentrification whereas housing vacancy rates and rental occupancy percentages were negatively associated. The magnitude is a bit harder to visually understand because we're on a logarithmic scale, and these numbers should be converted into odds ratios to really be interpretable.\n",
    "- **Poor Precision**: We have very low precision because there are a large number of tracts being categorized incorrectly as non-gentrified. This can likely be fixed if we include a lot more features (we currently have only around 20), and do some feature selection later to narrow down.\n",
    "\n",
    "## Possible gaps and how to fix them\n",
    "A clearly defined threshold or methodology around using velocities (year over year change) needs to be explored as well. This could be accomplished by looking at past areas that have become gentrified and seeing how their velocities affected their transition. Then it would be helpful to have a pilot study on cities today that fit the proposed profile and track their progress over the next few years to see if/how they gentrify. \n",
    "\n",
    "Given the sensitivity of this question we also would like to reduce false negatives by introducing more features to improve the model given the consequences of not being categorized properly. \n",
    "\n",
    "As mentioned earlier, the geographic restrictions from the ACS proved difficult at times but are clearly needed to preserve privacy and individual rights.\n",
    "\n",
    "## Reflecting on methods used\n",
    "Our methods and exploration were mostly successful in our goal to find features that can better define gentrification in a shorter time span. The major challenge was working around the geographic level restrictions in place from the ACS. Those restrictions are in place for a good reason and prevent data being used to personally identify an individual. Any future investigation and data collection would have to be careful the data is used in a responsible way that benefits communities.\n",
    "\n",
    "## Implications\n",
    "Understanding areas where gentrification is starting to occur faster than is currently possible clearly has positive benefits for defending existing communities, however there are many negatives that need to be mitigated. If companies or real estate developers use the tool to plan store placement and high-rise development in up and coming areas, the tool will have aided in the very thing it is trying to prevent. So possibly restricting how widely this tool is deployed or who has access to it would be a prudent move in the future. \n"
   ]
  }
 ],
 "metadata": {
  "kernelspec": {
   "display_name": "Python 3",
   "language": "python",
   "name": "python3"
  },
  "language_info": {
   "codemirror_mode": {
    "name": "ipython",
    "version": 3
   },
   "file_extension": ".py",
   "mimetype": "text/x-python",
   "name": "python",
   "nbconvert_exporter": "python",
   "pygments_lexer": "ipython3",
   "version": "3.6.8"
  }
 },
 "nbformat": 4,
 "nbformat_minor": 2
}
